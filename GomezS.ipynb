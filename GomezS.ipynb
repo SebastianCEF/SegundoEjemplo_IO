{
  "nbformat": 4,
  "nbformat_minor": 0,
  "metadata": {
    "colab": {
      "provenance": [],
      "toc_visible": true,
      "authorship_tag": "ABX9TyN71zmjb9TS8Qcfk41S9JLH",
      "include_colab_link": true
    },
    "kernelspec": {
      "name": "python3",
      "display_name": "Python 3"
    },
    "language_info": {
      "name": "python"
    }
  },
  "cells": [
    {
      "cell_type": "markdown",
      "metadata": {
        "id": "view-in-github",
        "colab_type": "text"
      },
      "source": [
        "<a href=\"https://colab.research.google.com/github/SebastianCEF/SegundoEjemplo_IO/blob/main/GomezS.ipynb\" target=\"_parent\"><img src=\"https://colab.research.google.com/assets/colab-badge.svg\" alt=\"Open In Colab\"/></a>"
      ]
    },
    {
      "cell_type": "markdown",
      "source": [
        "# primer ejercicio\n",
        "## subtitulo\n",
        "texto normal\n"
      ],
      "metadata": {
        "id": "r9-KU9aM3wgU"
      }
    },
    {
      "cell_type": "code",
      "execution_count": 1,
      "metadata": {
        "colab": {
          "base_uri": "https://localhost:8080/"
        },
        "id": "6IsxKgvF2k4m",
        "outputId": "30ba6f47-c53a-478b-82fa-4540d33f9169"
      },
      "outputs": [
        {
          "output_type": "stream",
          "name": "stdout",
          "text": [
            "hola mundo\n"
          ]
        }
      ],
      "source": [
        "print(\"buenos dias mundo\")\n"
      ]
    },
    {
      "cell_type": "markdown",
      "source": [
        "#segundo ejercicio"
      ],
      "metadata": {
        "id": "FkFdFDqH4UCk"
      }
    },
    {
      "cell_type": "code",
      "source": [
        "print (\"buenos dias, sebastian\")"
      ],
      "metadata": {
        "colab": {
          "base_uri": "https://localhost:8080/"
        },
        "id": "AeY4O-qz4Z3c",
        "outputId": "962eb027-b6d7-4202-f017-c18959cc1eb8"
      },
      "execution_count": 2,
      "outputs": [
        {
          "output_type": "stream",
          "name": "stdout",
          "text": [
            "hola, sebastian\n"
          ]
        }
      ]
    }
  ]
}